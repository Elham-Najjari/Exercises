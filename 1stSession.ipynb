{
 "cells": [
  {
   "cell_type": "code",
   "execution_count": null,
   "metadata": {},
   "outputs": [],
   "source": []
  },
  {
   "cell_type": "code",
   "execution_count": 15,
   "metadata": {},
   "outputs": [
    {
     "name": "stdout",
     "output_type": "stream",
     "text": [
      "['more', 'more', 'less', 'less']\n"
     ]
    }
   ],
   "source": [
    "def classify(x):\n",
    "    result = ''\n",
    "    if x['smoker'] == 'yes' :\n",
    "        if x['age'] < 29.5 :\n",
    "            result = 'less'\n",
    "        else :\n",
    "            result = 'more'\n",
    "            \n",
    "    elif x['smoker'] == 'no':\n",
    "        if x['diet'] == 'poor' :\n",
    "            result = 'more'\n",
    "        else :\n",
    "            result = 'less'\n",
    "    \n",
    "    \n",
    "    return result\n",
    "\n",
    "        \n",
    "\n",
    "\n",
    "data = [\n",
    "    {'smoker' : 'yes', 'age' : 35, 'diet' : 'good'},\n",
    "    {'smoker' : 'no', 'age' : 23, 'diet' : 'poor'},\n",
    "    {'smoker' : 'no', 'age' : 30, 'diet' : 'good'},\n",
    "    {'smoker' : 'yes', 'age' : 28, 'diet' : 'poor'}\n",
    "]\n",
    "\n",
    "results = []\n",
    "for x in data :\n",
    "    results = results + [classify(x)]\n",
    "print(results)\n",
    "    \n",
    "\n",
    "#classify({'smoker':'yes' , 'age': 54 , 'diet' : 'good'})\n",
    "            "
   ]
  },
  {
   "cell_type": "code",
   "execution_count": 18,
   "metadata": {},
   "outputs": [
    {
     "name": "stdout",
     "output_type": "stream",
     "text": [
      "['watermelon', 'other']\n",
      "<map object at 0x7ff27c5789b0>\n"
     ]
    }
   ],
   "source": [
    "\n",
    "def classify(x):\n",
    "    decision = \"\"\n",
    "    if x['color'] == 'green':\n",
    "        if x['size'] == 'big':\n",
    "            decision = 'watermelon'\n",
    "        elif x['size'] == 'medium':\n",
    "            decision = 'apple'\n",
    "        else:\n",
    "            decision = 'other'\n",
    "    else:\n",
    "        decision = 'other'\n",
    "    return decision\n",
    "\n",
    "data = [\n",
    "{'color':'green', 'size':'big'},\n",
    "{'color':'yellow','shape':'round','size':'big'}]\n",
    "\n",
    "\n",
    "print([classify(x) for x in data])\n",
    "\n",
    "print(map(classify, data))"
   ]
  },
  {
   "cell_type": "code",
   "execution_count": null,
   "metadata": {},
   "outputs": [],
   "source": []
  }
 ],
 "metadata": {
  "kernelspec": {
   "display_name": "Python 3",
   "language": "python",
   "name": "python3"
  },
  "language_info": {
   "codemirror_mode": {
    "name": "ipython",
    "version": 3
   },
   "file_extension": ".py",
   "mimetype": "text/x-python",
   "name": "python",
   "nbconvert_exporter": "python",
   "pygments_lexer": "ipython3",
   "version": "3.6.4"
  }
 },
 "nbformat": 4,
 "nbformat_minor": 2
}
